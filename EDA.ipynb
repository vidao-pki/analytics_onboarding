{
 "cells": [
  {
   "cell_type": "markdown",
   "id": "c9bff950-ae2d-4d51-93e0-e8a1c6061583",
   "metadata": {},
   "source": [
    "# EDA\n",
    "Start with this notebook before moving onto Exploration.ipynb.\n",
    "\n",
    "This notebook provides a semi-guided exploration of a data set. The purpose is to familiarize yourself with the data, brush up on some common EDA techniques, and prepare for the more open-ended and self-directed task that follows."
   ]
  },
  {
   "cell_type": "code",
   "execution_count": 1,
   "id": "f6a79d3a-8146-42fb-a927-d20c27e7d64b",
   "metadata": {},
   "outputs": [],
   "source": [
    "# use the following OneDrive link to download a copy of this file to your device\n",
    "# either save the downloaded file to the path indicated below or update the path accordingly\n",
    "# https://perkinelmer-my.sharepoint.com/:x:/p/bryan_romas/EQGG-RAMTVxIhZi4XItMdb4BUyV40MW4JD4RnYF2KyWcaQ?e=FiyVOx\n",
    "\n",
    "COPPER_FILE = 'data/copper_production_v1.xlsx'"
   ]
  },
  {
   "cell_type": "markdown",
   "id": "9ad18001-1256-4155-9d70-67f9f8127ef7",
   "metadata": {},
   "source": [
    "This file contains data from a factory that manufactures copper wire, specifically counts of two types of failures (Cable Failures & Other Failures) and the related amount of downtime captured in minutes (Cable Failure Downtime & Other Failure Downtime).\n",
    "\n",
    "Overall, the goal is to identify the primary source(s) of failures and downtimes and, if possible, to assess the certainty of those conclusions.  "
   ]
  },
  {
   "cell_type": "markdown",
   "id": "68546659-5579-4f86-8599-73a39be0b643",
   "metadata": {},
   "source": [
    "## Load COPPER_FILE & describe the contents (the number of records, average values, etc.)"
   ]
  },
  {
   "cell_type": "code",
   "execution_count": 2,
   "id": "ffae670f-b7f8-47af-ab5b-b984fae89679",
   "metadata": {},
   "outputs": [],
   "source": [
    "# import libraries\n",
    "import pandas as pd\n",
    "import numpy as np\n",
    "\n",
    "import os\n",
    "\n",
    "import warnings\n",
    "warnings.filterwarnings('ignore')\n",
    "\n",
    "import matplotlib.pyplot as plt\n",
    "import seaborn as sns\n",
    "\n",
    "# a simple theme that's better than the default\n",
    "sns.set_theme(\n",
    "    context='notebook',\n",
    "    style='darkgrid', \n",
    "    palette='husl',\n",
    "    rc={\"figure.figsize\":(24, 8)}\n",
    ")"
   ]
  },
  {
   "cell_type": "code",
   "execution_count": 3,
   "id": "43ebb77b-7572-4bf6-9f36-fec479b98e0b",
   "metadata": {},
   "outputs": [],
   "source": [
    "# get the path to copper_file\n",
    "abs_path_copper = os.path.abspath(COPPER_FILE)\n",
    "\n",
    "# load copper_file\n",
    "copper_df = pd.read_excel(abs_path_copper, index_col = 0)"
   ]
  },
  {
   "cell_type": "code",
   "execution_count": 4,
   "id": "3229915b-ec32-431d-b896-cf5268eab6c8",
   "metadata": {},
   "outputs": [
    {
     "data": {
      "text/html": [
       "<div>\n",
       "<style scoped>\n",
       "    .dataframe tbody tr th:only-of-type {\n",
       "        vertical-align: middle;\n",
       "    }\n",
       "\n",
       "    .dataframe tbody tr th {\n",
       "        vertical-align: top;\n",
       "    }\n",
       "\n",
       "    .dataframe thead th {\n",
       "        text-align: right;\n",
       "    }\n",
       "</style>\n",
       "<table border=\"1\" class=\"dataframe\">\n",
       "  <thead>\n",
       "    <tr style=\"text-align: right;\">\n",
       "      <th></th>\n",
       "      <th>Machine</th>\n",
       "      <th>Shift</th>\n",
       "      <th>Operator</th>\n",
       "      <th>Date</th>\n",
       "      <th>Cable Failures</th>\n",
       "      <th>Cable Failure Downtime</th>\n",
       "      <th>Other Failures</th>\n",
       "      <th>Other Failure Downtime</th>\n",
       "    </tr>\n",
       "  </thead>\n",
       "  <tbody>\n",
       "    <tr>\n",
       "      <th>0</th>\n",
       "      <td>6</td>\n",
       "      <td>A</td>\n",
       "      <td>12</td>\n",
       "      <td>2020-11-15</td>\n",
       "      <td>0</td>\n",
       "      <td>0</td>\n",
       "      <td>1</td>\n",
       "      <td>60</td>\n",
       "    </tr>\n",
       "    <tr>\n",
       "      <th>1</th>\n",
       "      <td>6</td>\n",
       "      <td>B</td>\n",
       "      <td>12</td>\n",
       "      <td>2020-11-10</td>\n",
       "      <td>0</td>\n",
       "      <td>0</td>\n",
       "      <td>0</td>\n",
       "      <td>0</td>\n",
       "    </tr>\n",
       "    <tr>\n",
       "      <th>2</th>\n",
       "      <td>2</td>\n",
       "      <td>A</td>\n",
       "      <td>2</td>\n",
       "      <td>2020-11-06</td>\n",
       "      <td>1</td>\n",
       "      <td>10</td>\n",
       "      <td>3</td>\n",
       "      <td>150</td>\n",
       "    </tr>\n",
       "    <tr>\n",
       "      <th>3</th>\n",
       "      <td>8</td>\n",
       "      <td>B</td>\n",
       "      <td>13</td>\n",
       "      <td>2020-11-16</td>\n",
       "      <td>3</td>\n",
       "      <td>175</td>\n",
       "      <td>0</td>\n",
       "      <td>0</td>\n",
       "    </tr>\n",
       "    <tr>\n",
       "      <th>4</th>\n",
       "      <td>7</td>\n",
       "      <td>B</td>\n",
       "      <td>14</td>\n",
       "      <td>2020-11-21</td>\n",
       "      <td>1</td>\n",
       "      <td>55</td>\n",
       "      <td>0</td>\n",
       "      <td>0</td>\n",
       "    </tr>\n",
       "  </tbody>\n",
       "</table>\n",
       "</div>"
      ],
      "text/plain": [
       "   Machine Shift  Operator       Date  Cable Failures  Cable Failure Downtime  \\\n",
       "0        6     A        12 2020-11-15               0                       0   \n",
       "1        6     B        12 2020-11-10               0                       0   \n",
       "2        2     A         2 2020-11-06               1                      10   \n",
       "3        8     B        13 2020-11-16               3                     175   \n",
       "4        7     B        14 2020-11-21               1                      55   \n",
       "\n",
       "   Other Failures  Other Failure Downtime  \n",
       "0               1                      60  \n",
       "1               0                       0  \n",
       "2               3                     150  \n",
       "3               0                       0  \n",
       "4               0                       0  "
      ]
     },
     "execution_count": 4,
     "metadata": {},
     "output_type": "execute_result"
    }
   ],
   "source": [
    "# print out the first 5 rows of copper_df\n",
    "copper_df.head()"
   ]
  },
  {
   "cell_type": "code",
   "execution_count": 5,
   "id": "029fa77c-b9ba-4122-b9c9-d1df8b606384",
   "metadata": {},
   "outputs": [
    {
     "name": "stdout",
     "output_type": "stream",
     "text": [
      "<class 'pandas.core.frame.DataFrame'>\n",
      "Int64Index: 154 entries, 0 to 153\n",
      "Data columns (total 8 columns):\n",
      " #   Column                  Non-Null Count  Dtype         \n",
      "---  ------                  --------------  -----         \n",
      " 0   Machine                 154 non-null    int64         \n",
      " 1   Shift                   154 non-null    object        \n",
      " 2   Operator                154 non-null    int64         \n",
      " 3   Date                    154 non-null    datetime64[ns]\n",
      " 4   Cable Failures          154 non-null    int64         \n",
      " 5   Cable Failure Downtime  154 non-null    int64         \n",
      " 6   Other Failures          154 non-null    int64         \n",
      " 7   Other Failure Downtime  154 non-null    int64         \n",
      "dtypes: datetime64[ns](1), int64(6), object(1)\n",
      "memory usage: 10.8+ KB\n"
     ]
    }
   ],
   "source": [
    "# inspect column datatype and check columns with missing values\n",
    "copper_df.info()"
   ]
  },
  {
   "cell_type": "code",
   "execution_count": 6,
   "id": "8702e23d-8ae6-439a-b1ae-c25431fca6f6",
   "metadata": {},
   "outputs": [
    {
     "data": {
      "text/html": [
       "<div>\n",
       "<style scoped>\n",
       "    .dataframe tbody tr th:only-of-type {\n",
       "        vertical-align: middle;\n",
       "    }\n",
       "\n",
       "    .dataframe tbody tr th {\n",
       "        vertical-align: top;\n",
       "    }\n",
       "\n",
       "    .dataframe thead th {\n",
       "        text-align: right;\n",
       "    }\n",
       "</style>\n",
       "<table border=\"1\" class=\"dataframe\">\n",
       "  <thead>\n",
       "    <tr style=\"text-align: right;\">\n",
       "      <th></th>\n",
       "      <th>count</th>\n",
       "      <th>mean</th>\n",
       "      <th>std</th>\n",
       "      <th>min</th>\n",
       "      <th>25%</th>\n",
       "      <th>50%</th>\n",
       "      <th>75%</th>\n",
       "      <th>max</th>\n",
       "    </tr>\n",
       "  </thead>\n",
       "  <tbody>\n",
       "    <tr>\n",
       "      <th>Machine</th>\n",
       "      <td>154.0</td>\n",
       "      <td>5.896104</td>\n",
       "      <td>4.278184</td>\n",
       "      <td>1.0</td>\n",
       "      <td>2.0</td>\n",
       "      <td>5.0</td>\n",
       "      <td>8.00</td>\n",
       "      <td>17.0</td>\n",
       "    </tr>\n",
       "    <tr>\n",
       "      <th>Operator</th>\n",
       "      <td>154.0</td>\n",
       "      <td>13.064935</td>\n",
       "      <td>8.608914</td>\n",
       "      <td>1.0</td>\n",
       "      <td>6.0</td>\n",
       "      <td>12.0</td>\n",
       "      <td>18.75</td>\n",
       "      <td>32.0</td>\n",
       "    </tr>\n",
       "    <tr>\n",
       "      <th>Cable Failures</th>\n",
       "      <td>154.0</td>\n",
       "      <td>1.383117</td>\n",
       "      <td>1.314564</td>\n",
       "      <td>0.0</td>\n",
       "      <td>0.0</td>\n",
       "      <td>1.0</td>\n",
       "      <td>2.00</td>\n",
       "      <td>6.0</td>\n",
       "    </tr>\n",
       "    <tr>\n",
       "      <th>Cable Failure Downtime</th>\n",
       "      <td>154.0</td>\n",
       "      <td>51.461039</td>\n",
       "      <td>56.533654</td>\n",
       "      <td>0.0</td>\n",
       "      <td>0.0</td>\n",
       "      <td>35.0</td>\n",
       "      <td>70.00</td>\n",
       "      <td>295.0</td>\n",
       "    </tr>\n",
       "    <tr>\n",
       "      <th>Other Failures</th>\n",
       "      <td>154.0</td>\n",
       "      <td>0.558442</td>\n",
       "      <td>0.996642</td>\n",
       "      <td>0.0</td>\n",
       "      <td>0.0</td>\n",
       "      <td>0.0</td>\n",
       "      <td>1.00</td>\n",
       "      <td>9.0</td>\n",
       "    </tr>\n",
       "    <tr>\n",
       "      <th>Other Failure Downtime</th>\n",
       "      <td>154.0</td>\n",
       "      <td>47.402597</td>\n",
       "      <td>105.446794</td>\n",
       "      <td>0.0</td>\n",
       "      <td>0.0</td>\n",
       "      <td>0.0</td>\n",
       "      <td>45.00</td>\n",
       "      <td>690.0</td>\n",
       "    </tr>\n",
       "  </tbody>\n",
       "</table>\n",
       "</div>"
      ],
      "text/plain": [
       "                        count       mean         std  min  25%   50%    75%  \\\n",
       "Machine                 154.0   5.896104    4.278184  1.0  2.0   5.0   8.00   \n",
       "Operator                154.0  13.064935    8.608914  1.0  6.0  12.0  18.75   \n",
       "Cable Failures          154.0   1.383117    1.314564  0.0  0.0   1.0   2.00   \n",
       "Cable Failure Downtime  154.0  51.461039   56.533654  0.0  0.0  35.0  70.00   \n",
       "Other Failures          154.0   0.558442    0.996642  0.0  0.0   0.0   1.00   \n",
       "Other Failure Downtime  154.0  47.402597  105.446794  0.0  0.0   0.0  45.00   \n",
       "\n",
       "                          max  \n",
       "Machine                  17.0  \n",
       "Operator                 32.0  \n",
       "Cable Failures            6.0  \n",
       "Cable Failure Downtime  295.0  \n",
       "Other Failures            9.0  \n",
       "Other Failure Downtime  690.0  "
      ]
     },
     "execution_count": 6,
     "metadata": {},
     "output_type": "execute_result"
    }
   ],
   "source": [
    "# copper_df initial statistics\n",
    "copper_df.describe().T"
   ]
  },
  {
   "cell_type": "code",
   "execution_count": 7,
   "id": "f2922c84-df84-4881-a1d6-34fb3a8f1c77",
   "metadata": {},
   "outputs": [
    {
     "data": {
      "text/plain": [
       "array(['A', 'B'], dtype=object)"
      ]
     },
     "execution_count": 7,
     "metadata": {},
     "output_type": "execute_result"
    }
   ],
   "source": [
    "# print out unique shifts\n",
    "copper_df['Shift'].unique()"
   ]
  },
  {
   "cell_type": "code",
   "execution_count": 8,
   "id": "fc30ea1d-9cdb-4568-bd54-89b82d282fa4",
   "metadata": {},
   "outputs": [
    {
     "data": {
      "text/plain": [
       "array(['2020-11-15T00:00:00.000000000', '2020-11-10T00:00:00.000000000',\n",
       "       '2020-11-06T00:00:00.000000000', '2020-11-16T00:00:00.000000000',\n",
       "       '2020-11-21T00:00:00.000000000', '2020-11-09T00:00:00.000000000',\n",
       "       '2020-11-14T00:00:00.000000000', '2020-11-07T00:00:00.000000000',\n",
       "       '2020-11-18T00:00:00.000000000', '2020-11-19T00:00:00.000000000',\n",
       "       '2020-11-12T00:00:00.000000000', '2020-11-13T00:00:00.000000000',\n",
       "       '2020-11-17T00:00:00.000000000', '2020-11-22T00:00:00.000000000',\n",
       "       '2020-11-08T00:00:00.000000000', '2020-11-20T00:00:00.000000000'],\n",
       "      dtype='datetime64[ns]')"
      ]
     },
     "execution_count": 8,
     "metadata": {},
     "output_type": "execute_result"
    }
   ],
   "source": [
    "# print out unique dates\n",
    "copper_df['Date'].unique()"
   ]
  },
  {
   "cell_type": "markdown",
   "id": "d6833c9b-bfef-449f-beee-90b851a50d12",
   "metadata": {
    "tags": []
   },
   "source": [
    "## Check for & remove exact duplicates"
   ]
  },
  {
   "cell_type": "code",
   "execution_count": 9,
   "id": "f8a7ff7f-e9a5-45cd-8e2d-8926a01f9346",
   "metadata": {},
   "outputs": [
    {
     "name": "stdout",
     "output_type": "stream",
     "text": [
      "there are 5 exact duplicates in the dataset\n"
     ]
    }
   ],
   "source": [
    "# a duplicate is defined as two or more records with the same values for all columns in the data\n",
    "# report the number of duplicates that were removed\n",
    "print('there are {} exact duplicates in the dataset'.format(len(copper_df) - len(copper_df.drop_duplicates())))"
   ]
  },
  {
   "cell_type": "code",
   "execution_count": 10,
   "id": "89e5e9de-f6a8-4aeb-a01d-095154333a24",
   "metadata": {},
   "outputs": [
    {
     "name": "stdout",
     "output_type": "stream",
     "text": [
      "there are 149 rows of data after exact duplicate removal\n"
     ]
    }
   ],
   "source": [
    "# remove the duplicates\n",
    "copper_df = copper_df.drop_duplicates()\n",
    "\n",
    "# print the number of rows after removing duplicates\n",
    "print('there are {} rows of data after exact duplicate removal'.format(copper_df.shape[0]))"
   ]
  },
  {
   "cell_type": "markdown",
   "id": "d13a576b-459b-4246-87c3-e52a1279e244",
   "metadata": {},
   "source": [
    "## Combine multiple records"
   ]
  },
  {
   "cell_type": "code",
   "execution_count": 11,
   "id": "706aac8e-3d9f-4130-80c7-e6846ceeaad9",
   "metadata": {},
   "outputs": [
    {
     "data": {
      "text/html": [
       "<div>\n",
       "<style scoped>\n",
       "    .dataframe tbody tr th:only-of-type {\n",
       "        vertical-align: middle;\n",
       "    }\n",
       "\n",
       "    .dataframe tbody tr th {\n",
       "        vertical-align: top;\n",
       "    }\n",
       "\n",
       "    .dataframe thead th {\n",
       "        text-align: right;\n",
       "    }\n",
       "</style>\n",
       "<table border=\"1\" class=\"dataframe\">\n",
       "  <thead>\n",
       "    <tr style=\"text-align: right;\">\n",
       "      <th></th>\n",
       "      <th>Machine</th>\n",
       "      <th>Shift</th>\n",
       "      <th>Operator</th>\n",
       "      <th>Date</th>\n",
       "      <th>Cable Failures</th>\n",
       "      <th>Cable Failure Downtime</th>\n",
       "      <th>Other Failures</th>\n",
       "      <th>Other Failure Downtime</th>\n",
       "    </tr>\n",
       "  </thead>\n",
       "  <tbody>\n",
       "    <tr>\n",
       "      <th>0</th>\n",
       "      <td>5</td>\n",
       "      <td>A</td>\n",
       "      <td>9</td>\n",
       "      <td>2020-11-17</td>\n",
       "      <td>3</td>\n",
       "      <td>160</td>\n",
       "      <td>0</td>\n",
       "      <td>0</td>\n",
       "    </tr>\n",
       "    <tr>\n",
       "      <th>1</th>\n",
       "      <td>7</td>\n",
       "      <td>A</td>\n",
       "      <td>9</td>\n",
       "      <td>2020-11-21</td>\n",
       "      <td>2</td>\n",
       "      <td>65</td>\n",
       "      <td>0</td>\n",
       "      <td>0</td>\n",
       "    </tr>\n",
       "    <tr>\n",
       "      <th>2</th>\n",
       "      <td>7</td>\n",
       "      <td>B</td>\n",
       "      <td>14</td>\n",
       "      <td>2020-11-21</td>\n",
       "      <td>4</td>\n",
       "      <td>120</td>\n",
       "      <td>1</td>\n",
       "      <td>30</td>\n",
       "    </tr>\n",
       "    <tr>\n",
       "      <th>3</th>\n",
       "      <td>8</td>\n",
       "      <td>B</td>\n",
       "      <td>13</td>\n",
       "      <td>2020-11-21</td>\n",
       "      <td>2</td>\n",
       "      <td>65</td>\n",
       "      <td>2</td>\n",
       "      <td>210</td>\n",
       "    </tr>\n",
       "  </tbody>\n",
       "</table>\n",
       "</div>"
      ],
      "text/plain": [
       "   Machine Shift  Operator       Date  Cable Failures  Cable Failure Downtime  \\\n",
       "0        5     A         9 2020-11-17               3                     160   \n",
       "1        7     A         9 2020-11-21               2                      65   \n",
       "2        7     B        14 2020-11-21               4                     120   \n",
       "3        8     B        13 2020-11-21               2                      65   \n",
       "\n",
       "   Other Failures  Other Failure Downtime  \n",
       "0               0                       0  \n",
       "1               0                       0  \n",
       "2               1                      30  \n",
       "3               2                     210  "
      ]
     },
     "execution_count": 11,
     "metadata": {},
     "output_type": "execute_result"
    }
   ],
   "source": [
    "# there shouldn't be more than one record per Machine-Shift-Operator-Date combination\n",
    "# combine any such records so the resulting record contains the sums of the remaining columns\n",
    "dup_rows = copper_df.copy()\n",
    "\n",
    "combination = ['Machine', 'Shift', 'Operator', 'Date']\n",
    "\n",
    "dup_rows = dup_rows[copper_df.duplicated(subset=combination, keep=False)]\n",
    "dup_rows = pd.DataFrame(dup_rows.groupby(combination)[['Cable Failures', 'Cable Failure Downtime', 'Other Failures', 'Other Failure Downtime']].sum())\n",
    "dup_rows.reset_index(inplace = True)\n",
    "dup_rows"
   ]
  },
  {
   "cell_type": "code",
   "execution_count": 12,
   "id": "b3dc3b01-f3e6-468e-86d9-e5b7220d46ab",
   "metadata": {},
   "outputs": [
    {
     "name": "stdout",
     "output_type": "stream",
     "text": [
      "copper_df shape before adding dup_rows: (141, 8)\n",
      "copper_df shape after adding dup_rows: (145, 8)\n"
     ]
    }
   ],
   "source": [
    "# drop duplicated rows from copper_df and add dup_rows combinatio\n",
    "\n",
    "copper_df = copper_df.drop_duplicates(subset = combination, keep = False)\n",
    "print('copper_df shape before adding dup_rows: {}'.format(copper_df.shape))\n",
    "\n",
    "# add dup_rows to copper_df\n",
    "dfs = [copper_df, dup_rows]\n",
    "\n",
    "copper_df = pd.concat(dfs).reset_index(drop=True)\n",
    "print('copper_df shape after adding dup_rows: {}'.format(copper_df.shape))"
   ]
  },
  {
   "cell_type": "markdown",
   "id": "09a0befd-572a-4aad-b416-5c2f9dc48955",
   "metadata": {},
   "source": [
    "## Load & process OPERATOR_FILE"
   ]
  },
  {
   "cell_type": "code",
   "execution_count": 13,
   "id": "904ab125-d499-45d8-85f5-843d14ab46ce",
   "metadata": {},
   "outputs": [],
   "source": [
    "# similar process to COPPER_FILE\n",
    "# https://perkinelmer-my.sharepoint.com/:t:/p/bryan_romas/EQLgOytFSANKtmt1zKFF7tMBaiLXru6Blscn8kqlyr7t2w?e=M5E5cb\n",
    "\n",
    "OPERATOR_FILE = 'data/operator_names.txt'"
   ]
  },
  {
   "cell_type": "markdown",
   "id": "f7a24dcc-6c0e-4d7e-8aa5-e3494c1a191d",
   "metadata": {},
   "source": [
    "This file contains a mapping between operator numbers and names. In general, the contents are formatted in the following manner: {operator number}{first name}{last name}.\n",
    "\n",
    "Overall, the goal is to load the file; extract the operator number, first name, and last initial; and merge or map those names into copper_df so you can reference the operators' first names and last initials instead of their numbers in the subsequent analysis.\n",
    "\n",
    "Ideally, you'll load the file and extract the necessary content by completing the function definition below (get_operator_names). However, if this proves too challenging then you may take any other programmatic approach to accomplish the goal. However, don't manually copy the file contents into the notebook or manipulate the contents of the file so the task is easier."
   ]
  },
  {
   "cell_type": "code",
   "execution_count": 14,
   "id": "7585d53f-a98b-4565-a372-42a0a23cacb2",
   "metadata": {},
   "outputs": [],
   "source": [
    "# load & process OPERATOR_FILE\n",
    "# HINT: you may want to use regex here\n",
    "import re\n",
    "\n",
    "def get_operator_names(operator_file: str)->pd.DataFrame:\n",
    "    \"\"\"\n",
    "    Load & process the contents of a file containing operator details.\n",
    "    \n",
    "    Params:\n",
    "    operator_file - str; the path to the operator file.\n",
    "    \n",
    "    Returns:\n",
    "    operator_df - pd.DataFrame; the extracted content of the operator file. The\n",
    "        columns should include Operator Number, First Name, & Last Initial.\n",
    "    \"\"\"\n",
    "    assert isinstance(operator_file, str), 'operator_file is not of type str.'\n",
    "    \n",
    "    # create column reference\n",
    "    columns=['Operator Number','First Name','Last Initial']\n",
    "    \n",
    "    # load operator file\n",
    "    operator = pd.read_csv(operator_file,\n",
    "                           #sep=r',', \n",
    "                           header = None,\n",
    "                           names = columns,\n",
    "                           delim_whitespace=True)\n",
    "    \n",
    "    # extract initial for last name\n",
    "    operator['Last Initial'] = operator['Last Initial'].astype(str).str[0]\n",
    "    \n",
    "    # create an empty df to fill with contents of operator_file\n",
    "    operator_df = pd.DataFrame(operator)\n",
    "    \n",
    "    return operator_df"
   ]
  },
  {
   "cell_type": "code",
   "execution_count": 15,
   "id": "800f1622-4f0c-4fb2-9323-29290a7efe9b",
   "metadata": {},
   "outputs": [
    {
     "data": {
      "text/html": [
       "<div>\n",
       "<style scoped>\n",
       "    .dataframe tbody tr th:only-of-type {\n",
       "        vertical-align: middle;\n",
       "    }\n",
       "\n",
       "    .dataframe tbody tr th {\n",
       "        vertical-align: top;\n",
       "    }\n",
       "\n",
       "    .dataframe thead th {\n",
       "        text-align: right;\n",
       "    }\n",
       "</style>\n",
       "<table border=\"1\" class=\"dataframe\">\n",
       "  <thead>\n",
       "    <tr style=\"text-align: right;\">\n",
       "      <th></th>\n",
       "      <th>Operator Number</th>\n",
       "      <th>First Name</th>\n",
       "      <th>Last Initial</th>\n",
       "    </tr>\n",
       "  </thead>\n",
       "  <tbody>\n",
       "    <tr>\n",
       "      <th>0</th>\n",
       "      <td>11</td>\n",
       "      <td>Nichole</td>\n",
       "      <td>H</td>\n",
       "    </tr>\n",
       "    <tr>\n",
       "      <th>1</th>\n",
       "      <td>19</td>\n",
       "      <td>David</td>\n",
       "      <td>S</td>\n",
       "    </tr>\n",
       "    <tr>\n",
       "      <th>2</th>\n",
       "      <td>3</td>\n",
       "      <td>Hess</td>\n",
       "      <td>H</td>\n",
       "    </tr>\n",
       "    <tr>\n",
       "      <th>3</th>\n",
       "      <td>4</td>\n",
       "      <td>Lilly</td>\n",
       "      <td>Z</td>\n",
       "    </tr>\n",
       "    <tr>\n",
       "      <th>4</th>\n",
       "      <td>5</td>\n",
       "      <td>Archy</td>\n",
       "      <td>B</td>\n",
       "    </tr>\n",
       "  </tbody>\n",
       "</table>\n",
       "</div>"
      ],
      "text/plain": [
       "   Operator Number First Name Last Initial\n",
       "0               11    Nichole            H\n",
       "1               19      David            S\n",
       "2                3       Hess            H\n",
       "3                4      Lilly            Z\n",
       "4                5      Archy            B"
      ]
     },
     "execution_count": 15,
     "metadata": {},
     "output_type": "execute_result"
    }
   ],
   "source": [
    "# get the absolute path to the operator file\n",
    "abs_path_operator = os.path.abspath(OPERATOR_FILE)\n",
    "\n",
    "# process and print out the first 5 rows of operator_df\n",
    "operator_df = get_operator_names(abs_path_operator)\n",
    "\n",
    "operator_df.head()"
   ]
  },
  {
   "cell_type": "code",
   "execution_count": 16,
   "id": "45ccc5c6-a1c5-4f49-bd31-12e25ac6bc64",
   "metadata": {},
   "outputs": [
    {
     "name": "stdout",
     "output_type": "stream",
     "text": [
      "<class 'pandas.core.frame.DataFrame'>\n",
      "RangeIndex: 41 entries, 0 to 40\n",
      "Data columns (total 3 columns):\n",
      " #   Column           Non-Null Count  Dtype \n",
      "---  ------           --------------  ----- \n",
      " 0   Operator Number  41 non-null     int64 \n",
      " 1   First Name       41 non-null     object\n",
      " 2   Last Initial     41 non-null     object\n",
      "dtypes: int64(1), object(2)\n",
      "memory usage: 1.1+ KB\n"
     ]
    }
   ],
   "source": [
    "# get column datatype info\n",
    "operator_df.info()"
   ]
  },
  {
   "cell_type": "code",
   "execution_count": 17,
   "id": "9bfd468f-fca0-4a46-b862-f696f77b9ee9",
   "metadata": {},
   "outputs": [
    {
     "data": {
      "text/html": [
       "<div>\n",
       "<style scoped>\n",
       "    .dataframe tbody tr th:only-of-type {\n",
       "        vertical-align: middle;\n",
       "    }\n",
       "\n",
       "    .dataframe tbody tr th {\n",
       "        vertical-align: top;\n",
       "    }\n",
       "\n",
       "    .dataframe thead th {\n",
       "        text-align: right;\n",
       "    }\n",
       "</style>\n",
       "<table border=\"1\" class=\"dataframe\">\n",
       "  <thead>\n",
       "    <tr style=\"text-align: right;\">\n",
       "      <th></th>\n",
       "      <th>Machine</th>\n",
       "      <th>Shift</th>\n",
       "      <th>Date</th>\n",
       "      <th>Cable Failures</th>\n",
       "      <th>Cable Failure Downtime</th>\n",
       "      <th>Other Failures</th>\n",
       "      <th>Other Failure Downtime</th>\n",
       "      <th>Operator Number</th>\n",
       "      <th>First Name</th>\n",
       "      <th>Last Initial</th>\n",
       "    </tr>\n",
       "  </thead>\n",
       "  <tbody>\n",
       "    <tr>\n",
       "      <th>0</th>\n",
       "      <td>6</td>\n",
       "      <td>A</td>\n",
       "      <td>2020-11-15</td>\n",
       "      <td>0</td>\n",
       "      <td>0</td>\n",
       "      <td>1</td>\n",
       "      <td>60</td>\n",
       "      <td>12</td>\n",
       "      <td>Tad</td>\n",
       "      <td>S</td>\n",
       "    </tr>\n",
       "    <tr>\n",
       "      <th>1</th>\n",
       "      <td>6</td>\n",
       "      <td>B</td>\n",
       "      <td>2020-11-10</td>\n",
       "      <td>0</td>\n",
       "      <td>0</td>\n",
       "      <td>0</td>\n",
       "      <td>0</td>\n",
       "      <td>12</td>\n",
       "      <td>Tad</td>\n",
       "      <td>S</td>\n",
       "    </tr>\n",
       "    <tr>\n",
       "      <th>2</th>\n",
       "      <td>2</td>\n",
       "      <td>A</td>\n",
       "      <td>2020-11-06</td>\n",
       "      <td>1</td>\n",
       "      <td>10</td>\n",
       "      <td>3</td>\n",
       "      <td>150</td>\n",
       "      <td>2</td>\n",
       "      <td>Hugh</td>\n",
       "      <td>R</td>\n",
       "    </tr>\n",
       "    <tr>\n",
       "      <th>3</th>\n",
       "      <td>8</td>\n",
       "      <td>B</td>\n",
       "      <td>2020-11-16</td>\n",
       "      <td>3</td>\n",
       "      <td>175</td>\n",
       "      <td>0</td>\n",
       "      <td>0</td>\n",
       "      <td>13</td>\n",
       "      <td>Marcel</td>\n",
       "      <td>C</td>\n",
       "    </tr>\n",
       "    <tr>\n",
       "      <th>4</th>\n",
       "      <td>2</td>\n",
       "      <td>B</td>\n",
       "      <td>2020-11-09</td>\n",
       "      <td>0</td>\n",
       "      <td>0</td>\n",
       "      <td>1</td>\n",
       "      <td>20</td>\n",
       "      <td>1</td>\n",
       "      <td>Courtney</td>\n",
       "      <td>H</td>\n",
       "    </tr>\n",
       "  </tbody>\n",
       "</table>\n",
       "</div>"
      ],
      "text/plain": [
       "   Machine Shift       Date  Cable Failures  Cable Failure Downtime  \\\n",
       "0        6     A 2020-11-15               0                       0   \n",
       "1        6     B 2020-11-10               0                       0   \n",
       "2        2     A 2020-11-06               1                      10   \n",
       "3        8     B 2020-11-16               3                     175   \n",
       "4        2     B 2020-11-09               0                       0   \n",
       "\n",
       "   Other Failures  Other Failure Downtime  Operator Number First Name  \\\n",
       "0               1                      60               12        Tad   \n",
       "1               0                       0               12        Tad   \n",
       "2               3                     150                2       Hugh   \n",
       "3               0                       0               13     Marcel   \n",
       "4               1                      20                1   Courtney   \n",
       "\n",
       "  Last Initial  \n",
       "0            S  \n",
       "1            S  \n",
       "2            R  \n",
       "3            C  \n",
       "4            H  "
      ]
     },
     "execution_count": 17,
     "metadata": {},
     "output_type": "execute_result"
    }
   ],
   "source": [
    "# merge copper_df with operator_df using on 'Operator' = 'Operator Number'\n",
    "combined_df = copper_df.merge(operator_df, \n",
    "                              how='left', \n",
    "                              left_on='Operator', \n",
    "                              right_on='Operator Number')\n",
    "\n",
    "# drop duplicated column & inspect the new combined table\n",
    "combined_df.drop('Operator', axis=1, inplace=True)\n",
    "\n",
    "combined_df.head()"
   ]
  },
  {
   "cell_type": "code",
   "execution_count": 18,
   "id": "dc2d83be-25be-49d3-81f8-7b3a566f4aeb",
   "metadata": {},
   "outputs": [
    {
     "data": {
      "text/plain": [
       "(145, 10)"
      ]
     },
     "execution_count": 18,
     "metadata": {},
     "output_type": "execute_result"
    }
   ],
   "source": [
    "# print out the shape of the new combined_df\n",
    "combined_df.shape"
   ]
  },
  {
   "cell_type": "markdown",
   "id": "f8cc386b-e37e-40f5-bafc-29d37cabecc4",
   "metadata": {},
   "source": [
    "## How many unique Machines, Shifts, & Operator Names are included in the data? Plot the proportion of the total for each.\n",
    "\n",
    "Below is an example of the first plot you'll create.\n",
    "\n",
    "![image](img/machine_proportions.PNG)"
   ]
  },
  {
   "cell_type": "markdown",
   "id": "19886fb0-b504-49e3-b478-ae2798097462",
   "metadata": {},
   "source": [
    "### Machines"
   ]
  },
  {
   "cell_type": "code",
   "execution_count": 19,
   "id": "cae4ca09-5c01-46df-b12d-148391ba7f4b",
   "metadata": {},
   "outputs": [
    {
     "name": "stdout",
     "output_type": "stream",
     "text": [
      "There are 17 unique machines within the dataset\n"
     ]
    },
    {
     "data": {
      "text/plain": [
       "2     0.186207\n",
       "3     0.131034\n",
       "7     0.110345\n",
       "1     0.103448\n",
       "8     0.075862\n",
       "5     0.062069\n",
       "6     0.055172\n",
       "4     0.055172\n",
       "10    0.041379\n",
       "16    0.034483\n",
       "15    0.034483\n",
       "9     0.027586\n",
       "13    0.020690\n",
       "11    0.020690\n",
       "14    0.020690\n",
       "12    0.013793\n",
       "17    0.006897\n",
       "Name: Machine, dtype: float64"
      ]
     },
     "execution_count": 19,
     "metadata": {},
     "output_type": "execute_result"
    }
   ],
   "source": [
    "# get the total number of unique Machines in the data as well as the proportion of the total (i.e. normalized count)\n",
    "# get the total number of unique machines\n",
    "print('There are {} unique machines within the dataset'.format(combined_df['Machine'].nunique()))\n",
    "\n",
    "# get the proportion of machines (% per total)\n",
    "machine_proportion= combined_df['Machine'].value_counts(normalize = True, ascending = False)\n",
    "\n",
    "machine_proportion"
   ]
  },
  {
   "cell_type": "code",
   "execution_count": 20,
   "id": "073c206c-2711-412c-8f6b-d355de62b9a6",
   "metadata": {
    "tags": []
   },
   "outputs": [
    {
     "data": {
      "text/plain": [
       "<AxesSubplot:title={'center':'Machine usage proportion (%)'}>"
      ]
     },
     "execution_count": 20,
     "metadata": {},
     "output_type": "execute_result"
    },
    {
     "data": {
      "image/png": "[encoded data removed]",
      "text/plain": [
       "<Figure size 1728x576 with 1 Axes>"
      ]
     },
     "metadata": {},
     "output_type": "display_data"
    }
   ],
   "source": [
    "# plot each Machines's proportion of the total\n",
    "# HINT: for a simple bar chart you can call .plot() on a pd.Series or pd.DataFrame\n",
    "machine_proportion.sort_values(ascending=False).plot(kind='bar',\n",
    "                                                     title = 'Machine usage proportion (%)')"
   ]
  },
  {
   "cell_type": "markdown",
   "id": "3a132729-75a6-41be-8e01-ace9be0d8ef5",
   "metadata": {},
   "source": [
    "It looks like machine 2, 3, 7, and 1 are the most heavily ultilized machines for copper production in this specific dataset"
   ]
  },
  {
   "cell_type": "markdown",
   "id": "dfb4ce25-f49f-4911-a783-f4603c22780a",
   "metadata": {},
   "source": [
    "### Shifts"
   ]
  },
  {
   "cell_type": "code",
   "execution_count": 21,
   "id": "ce54b76f-86a1-4210-adb2-10209494ae14",
   "metadata": {},
   "outputs": [
    {
     "data": {
      "text/plain": [
       "A    0.510345\n",
       "B    0.489655\n",
       "Name: Shift, dtype: float64"
      ]
     },
     "execution_count": 21,
     "metadata": {},
     "output_type": "execute_result"
    }
   ],
   "source": [
    "# get the total number of unique Shifts in the data as well as the proportion of the total (i.e. normalized count)\n",
    "shift_proportion= combined_df['Shift'].value_counts(normalize = True, ascending = False)\n",
    "\n",
    "shift_proportion"
   ]
  },
  {
   "cell_type": "code",
   "execution_count": 22,
   "id": "6aa6fe63-8223-4f28-ab06-6b338a48444f",
   "metadata": {},
   "outputs": [
    {
     "data": {
      "text/plain": [
       "<AxesSubplot:title={'center':'Shift usage proportion (%)'}>"
      ]
     },
     "execution_count": 22,
     "metadata": {},
     "output_type": "execute_result"
    },
    {
     "data": {
      "image/png": "[encoded data removed]",
      "text/plain": [
       "<Figure size 1728x576 with 1 Axes>"
      ]
     },
     "metadata": {},
     "output_type": "display_data"
    }
   ],
   "source": [
    "# plot each Shift's proportion of the total, same idea as above\n",
    "shift_proportion.sort_values(ascending=False).plot(kind='bar',\n",
    "                                                   title = 'Shift usage proportion (%)')"
   ]
  },
  {
   "cell_type": "markdown",
   "id": "fe447d07-d06a-4f07-b3e7-b5fd517f7bc3",
   "metadata": {},
   "source": [
    "The number of shifts are equally proportioned between shift A and shift B"
   ]
  },
  {
   "cell_type": "markdown",
   "id": "6f1c93eb-f472-428f-93a7-51d72e213116",
   "metadata": {},
   "source": [
    "### Operator Names"
   ]
  },
  {
   "cell_type": "code",
   "execution_count": 23,
   "id": "e73129e1-abb2-472d-99ef-841dd40475f7",
   "metadata": {},
   "outputs": [],
   "source": [
    "# get the total number of unique Operator Names in the data as well as the proportion of the total (i.e. normalized count)\n",
    "combined_df['Operator Name'] = pd.DataFrame(combined_df['First Name'] + '_' + combined_df['Last Initial'])"
   ]
  },
  {
   "cell_type": "code",
   "execution_count": 24,
   "id": "c497ed05-aeef-4bc3-a11f-c18e683b9133",
   "metadata": {},
   "outputs": [
    {
     "data": {
      "text/plain": [
       "<AxesSubplot:title={'center':'Shift usage proportion (%)'}>"
      ]
     },
     "execution_count": 24,
     "metadata": {},
     "output_type": "execute_result"
    },
    {
     "data": {
      "image/png": "[encoded data removed]",
      "text/plain": [
       "<Figure size 1728x576 with 1 Axes>"
      ]
     },
     "metadata": {},
     "output_type": "display_data"
    }
   ],
   "source": [
    "# plot each Operators's proportion of the total, again the same as above\n",
    "operator_proportion= combined_df['Operator Name'].value_counts(normalize = True, ascending = False)\n",
    "\n",
    "operator_proportion.sort_values(ascending=False).plot(kind='bar',\n",
    "                                            title = 'Shift usage proportion (%)')"
   ]
  },
  {
   "cell_type": "markdown",
   "id": "3b7b53ac-eae9-4a60-bf46-7210842d2d36",
   "metadata": {},
   "source": [
    "According to the above chart, Fritz_M and Courtney_H operates the highest number of shifts"
   ]
  },
  {
   "cell_type": "markdown",
   "id": "bef0fcec-1753-4934-940c-27d2a672cca8",
   "metadata": {},
   "source": [
    "## How many dates are included in the data?"
   ]
  },
  {
   "cell_type": "code",
   "execution_count": 25,
   "id": "5cb9ceee-e2cb-40c3-bdd4-d8b07bcd266b",
   "metadata": {},
   "outputs": [
    {
     "name": "stdout",
     "output_type": "stream",
     "text": [
      "There are 16 unique dates in the dataset\n"
     ]
    },
    {
     "data": {
      "text/plain": [
       "Date\n",
       "2020-11-06     3\n",
       "2020-11-07     2\n",
       "2020-11-08     4\n",
       "2020-11-09     6\n",
       "2020-11-10    14\n",
       "2020-11-12     9\n",
       "2020-11-13    12\n",
       "2020-11-14    13\n",
       "2020-11-15    12\n",
       "2020-11-16     7\n",
       "2020-11-17    12\n",
       "2020-11-18    10\n",
       "2020-11-19     8\n",
       "2020-11-20     7\n",
       "2020-11-21    13\n",
       "2020-11-22    13\n",
       "Name: Date, dtype: int64"
      ]
     },
     "execution_count": 25,
     "metadata": {},
     "output_type": "execute_result"
    }
   ],
   "source": [
    "# get the total number of Dates in the data as well as how many records exist for each\n",
    "print('There are {} unique dates in the dataset'.format(combined_df['Date'].nunique()))\n",
    "\n",
    "combined_df.groupby('Date')['Date'].count()"
   ]
  },
  {
   "cell_type": "markdown",
   "id": "da564045-f26c-4cd9-b8fb-012557b424b1",
   "metadata": {},
   "source": [
    "### Are any dates that should be covered by the range of the data missing? If so, which and how could this be addressed?"
   ]
  },
  {
   "cell_type": "code",
   "execution_count": 26,
   "id": "b6d2c39f-cfac-4a05-ba73-5783605e96a8",
   "metadata": {},
   "outputs": [
    {
     "data": {
      "text/plain": [
       "DatetimeIndex(['2020-11-11'], dtype='datetime64[ns]', freq=None)"
      ]
     },
     "execution_count": 26,
     "metadata": {},
     "output_type": "execute_result"
    }
   ],
   "source": [
    "# identify if any dates are missing in the data\n",
    "# if so, simply explain how the missing data could be addressed no need to solve it in code here\n",
    "\n",
    "date_max = combined_df['Date'].max()\n",
    "date_min = combined_df['Date'].min()\n",
    "\n",
    "pd.date_range(start = date_min, end = date_max).difference(combined_df['Date'])"
   ]
  },
  {
   "cell_type": "markdown",
   "id": "32bd76ee-d3c5-47c2-8a27-f895136b7273",
   "metadata": {},
   "source": [
    "There are a few ways that we can impute the data for the missing date.\n",
    "\n",
    "- 2020-11-11 was a Wednesday. We could use the data for the next Wednesday (2020-11-18) to impute the missing data. If we use this techique, we assume that the there is a relationship between the day of the week and the number of failure/downtime. For example, there tends to be more failures/downtimes that happen on Wednesday because the factory don't have a full staff on Wednesday?\n",
    "\n",
    "- Another way to impute data for 2020-11-11 entry is to use the mean/median of a certain time period. For example, we can assume that the number of failures/downtimes for Wednesday could equal to the mean/median number of failures/downtimes for the previous week, or the previous trailing 7 days, etc.\n",
    "\n",
    "- Another method we can use is Last observation carried forward (LOCF) or using Next observation carried forward (NOCF)"
   ]
  },
  {
   "cell_type": "markdown",
   "id": "4b615ba3-44ba-4137-a542-2640f13446be",
   "metadata": {
    "tags": []
   },
   "source": [
    "## Create 'Day of Week' column"
   ]
  },
  {
   "cell_type": "code",
   "execution_count": 27,
   "id": "6f118bf7-8f4e-4f13-8baf-2f96d9c7e851",
   "metadata": {},
   "outputs": [
    {
     "data": {
      "text/plain": [
       "Date\n",
       "2020-11-06       [Friday]\n",
       "2020-11-07     [Saturday]\n",
       "2020-11-08       [Sunday]\n",
       "2020-11-09       [Monday]\n",
       "2020-11-10      [Tuesday]\n",
       "2020-11-12     [Thursday]\n",
       "2020-11-13       [Friday]\n",
       "2020-11-14     [Saturday]\n",
       "2020-11-15       [Sunday]\n",
       "2020-11-16       [Monday]\n",
       "2020-11-17      [Tuesday]\n",
       "2020-11-18    [Wednesday]\n",
       "2020-11-19     [Thursday]\n",
       "2020-11-20       [Friday]\n",
       "2020-11-21     [Saturday]\n",
       "2020-11-22       [Sunday]\n",
       "Name: Day of Week, dtype: object"
      ]
     },
     "execution_count": 27,
     "metadata": {},
     "output_type": "execute_result"
    }
   ],
   "source": [
    "# insert a new column indicating the day of the week e.g., Monday\n",
    "combined_df['Day of Week'] = combined_df['Date'].dt.day_name()\n",
    "\n",
    "# map date range and day of week\n",
    "combined_df.groupby('Date')['Day of Week'].unique()"
   ]
  },
  {
   "cell_type": "markdown",
   "id": "66e08ae6-a7e5-43f3-9950-3b3429a6bda1",
   "metadata": {},
   "source": [
    "## Create 'Total Failures' & 'Total Downtime' columns"
   ]
  },
  {
   "cell_type": "code",
   "execution_count": 28,
   "id": "31e84ad9-9f47-4f60-ad4d-735ad123cae9",
   "metadata": {},
   "outputs": [
    {
     "data": {
      "text/html": [
       "<div>\n",
       "<style scoped>\n",
       "    .dataframe tbody tr th:only-of-type {\n",
       "        vertical-align: middle;\n",
       "    }\n",
       "\n",
       "    .dataframe tbody tr th {\n",
       "        vertical-align: top;\n",
       "    }\n",
       "\n",
       "    .dataframe thead th {\n",
       "        text-align: right;\n",
       "    }\n",
       "</style>\n",
       "<table border=\"1\" class=\"dataframe\">\n",
       "  <thead>\n",
       "    <tr style=\"text-align: right;\">\n",
       "      <th></th>\n",
       "      <th>Machine</th>\n",
       "      <th>Shift</th>\n",
       "      <th>Date</th>\n",
       "      <th>Cable Failures</th>\n",
       "      <th>Cable Failure Downtime</th>\n",
       "      <th>Other Failures</th>\n",
       "      <th>Other Failure Downtime</th>\n",
       "      <th>Operator Number</th>\n",
       "      <th>First Name</th>\n",
       "      <th>Last Initial</th>\n",
       "      <th>Operator Name</th>\n",
       "      <th>Day of Week</th>\n",
       "      <th>Total Failures</th>\n",
       "      <th>Total Failure Downtime</th>\n",
       "    </tr>\n",
       "  </thead>\n",
       "  <tbody>\n",
       "    <tr>\n",
       "      <th>0</th>\n",
       "      <td>6</td>\n",
       "      <td>A</td>\n",
       "      <td>2020-11-15</td>\n",
       "      <td>0</td>\n",
       "      <td>0</td>\n",
       "      <td>1</td>\n",
       "      <td>60</td>\n",
       "      <td>12</td>\n",
       "      <td>Tad</td>\n",
       "      <td>S</td>\n",
       "      <td>Tad_S</td>\n",
       "      <td>Sunday</td>\n",
       "      <td>1</td>\n",
       "      <td>60</td>\n",
       "    </tr>\n",
       "    <tr>\n",
       "      <th>1</th>\n",
       "      <td>6</td>\n",
       "      <td>B</td>\n",
       "      <td>2020-11-10</td>\n",
       "      <td>0</td>\n",
       "      <td>0</td>\n",
       "      <td>0</td>\n",
       "      <td>0</td>\n",
       "      <td>12</td>\n",
       "      <td>Tad</td>\n",
       "      <td>S</td>\n",
       "      <td>Tad_S</td>\n",
       "      <td>Tuesday</td>\n",
       "      <td>0</td>\n",
       "      <td>0</td>\n",
       "    </tr>\n",
       "    <tr>\n",
       "      <th>2</th>\n",
       "      <td>2</td>\n",
       "      <td>A</td>\n",
       "      <td>2020-11-06</td>\n",
       "      <td>1</td>\n",
       "      <td>10</td>\n",
       "      <td>3</td>\n",
       "      <td>150</td>\n",
       "      <td>2</td>\n",
       "      <td>Hugh</td>\n",
       "      <td>R</td>\n",
       "      <td>Hugh_R</td>\n",
       "      <td>Friday</td>\n",
       "      <td>4</td>\n",
       "      <td>160</td>\n",
       "    </tr>\n",
       "    <tr>\n",
       "      <th>3</th>\n",
       "      <td>8</td>\n",
       "      <td>B</td>\n",
       "      <td>2020-11-16</td>\n",
       "      <td>3</td>\n",
       "      <td>175</td>\n",
       "      <td>0</td>\n",
       "      <td>0</td>\n",
       "      <td>13</td>\n",
       "      <td>Marcel</td>\n",
       "      <td>C</td>\n",
       "      <td>Marcel_C</td>\n",
       "      <td>Monday</td>\n",
       "      <td>3</td>\n",
       "      <td>175</td>\n",
       "    </tr>\n",
       "    <tr>\n",
       "      <th>4</th>\n",
       "      <td>2</td>\n",
       "      <td>B</td>\n",
       "      <td>2020-11-09</td>\n",
       "      <td>0</td>\n",
       "      <td>0</td>\n",
       "      <td>1</td>\n",
       "      <td>20</td>\n",
       "      <td>1</td>\n",
       "      <td>Courtney</td>\n",
       "      <td>H</td>\n",
       "      <td>Courtney_H</td>\n",
       "      <td>Monday</td>\n",
       "      <td>1</td>\n",
       "      <td>20</td>\n",
       "    </tr>\n",
       "  </tbody>\n",
       "</table>\n",
       "</div>"
      ],
      "text/plain": [
       "   Machine Shift       Date  Cable Failures  Cable Failure Downtime  \\\n",
       "0        6     A 2020-11-15               0                       0   \n",
       "1        6     B 2020-11-10               0                       0   \n",
       "2        2     A 2020-11-06               1                      10   \n",
       "3        8     B 2020-11-16               3                     175   \n",
       "4        2     B 2020-11-09               0                       0   \n",
       "\n",
       "   Other Failures  Other Failure Downtime  Operator Number First Name  \\\n",
       "0               1                      60               12        Tad   \n",
       "1               0                       0               12        Tad   \n",
       "2               3                     150                2       Hugh   \n",
       "3               0                       0               13     Marcel   \n",
       "4               1                      20                1   Courtney   \n",
       "\n",
       "  Last Initial Operator Name Day of Week  Total Failures  \\\n",
       "0            S         Tad_S      Sunday               1   \n",
       "1            S         Tad_S     Tuesday               0   \n",
       "2            R        Hugh_R      Friday               4   \n",
       "3            C      Marcel_C      Monday               3   \n",
       "4            H    Courtney_H      Monday               1   \n",
       "\n",
       "   Total Failure Downtime  \n",
       "0                      60  \n",
       "1                       0  \n",
       "2                     160  \n",
       "3                     175  \n",
       "4                      20  "
      ]
     },
     "execution_count": 28,
     "metadata": {},
     "output_type": "execute_result"
    }
   ],
   "source": [
    "# insert two new columns to calculate the simple sum of failures & downtime for a given record\n",
    "combined_df['Total Failures'] = combined_df['Cable Failures'] + combined_df['Other Failures']\n",
    "combined_df['Total Failure Downtime'] = combined_df['Cable Failure Downtime'] + combined_df['Other Failure Downtime']\n",
    "\n",
    "combined_df.head()"
   ]
  },
  {
   "cell_type": "markdown",
   "id": "8f2d2f57-a037-4a70-aa4e-0293069251c8",
   "metadata": {},
   "source": [
    "## Plot the sum of downtimes by 'Date'\n",
    "\n",
    "Below is an example of this plot.\n",
    "\n",
    "![image](img/downtimes_by_date.PNG)"
   ]
  },
  {
   "cell_type": "code",
   "execution_count": 29,
   "id": "860bafca-691a-4f48-8355-3acee384d7ff",
   "metadata": {},
   "outputs": [
    {
     "data": {
      "text/html": [
       "<div>\n",
       "<style scoped>\n",
       "    .dataframe tbody tr th:only-of-type {\n",
       "        vertical-align: middle;\n",
       "    }\n",
       "\n",
       "    .dataframe tbody tr th {\n",
       "        vertical-align: top;\n",
       "    }\n",
       "\n",
       "    .dataframe thead th {\n",
       "        text-align: right;\n",
       "    }\n",
       "</style>\n",
       "<table border=\"1\" class=\"dataframe\">\n",
       "  <thead>\n",
       "    <tr style=\"text-align: right;\">\n",
       "      <th></th>\n",
       "      <th>Cable Failure Downtime</th>\n",
       "      <th>Other Failure Downtime</th>\n",
       "      <th>Total Failure Downtime</th>\n",
       "    </tr>\n",
       "    <tr>\n",
       "      <th>Date</th>\n",
       "      <th></th>\n",
       "      <th></th>\n",
       "      <th></th>\n",
       "    </tr>\n",
       "  </thead>\n",
       "  <tbody>\n",
       "    <tr>\n",
       "      <th>2020-11-06</th>\n",
       "      <td>85</td>\n",
       "      <td>290</td>\n",
       "      <td>375</td>\n",
       "    </tr>\n",
       "    <tr>\n",
       "      <th>2020-11-07</th>\n",
       "      <td>160</td>\n",
       "      <td>115</td>\n",
       "      <td>275</td>\n",
       "    </tr>\n",
       "    <tr>\n",
       "      <th>2020-11-08</th>\n",
       "      <td>220</td>\n",
       "      <td>40</td>\n",
       "      <td>260</td>\n",
       "    </tr>\n",
       "    <tr>\n",
       "      <th>2020-11-09</th>\n",
       "      <td>380</td>\n",
       "      <td>115</td>\n",
       "      <td>495</td>\n",
       "    </tr>\n",
       "    <tr>\n",
       "      <th>2020-11-10</th>\n",
       "      <td>915</td>\n",
       "      <td>55</td>\n",
       "      <td>970</td>\n",
       "    </tr>\n",
       "  </tbody>\n",
       "</table>\n",
       "</div>"
      ],
      "text/plain": [
       "            Cable Failure Downtime  Other Failure Downtime  \\\n",
       "Date                                                         \n",
       "2020-11-06                      85                     290   \n",
       "2020-11-07                     160                     115   \n",
       "2020-11-08                     220                      40   \n",
       "2020-11-09                     380                     115   \n",
       "2020-11-10                     915                      55   \n",
       "\n",
       "            Total Failure Downtime  \n",
       "Date                                \n",
       "2020-11-06                     375  \n",
       "2020-11-07                     275  \n",
       "2020-11-08                     260  \n",
       "2020-11-09                     495  \n",
       "2020-11-10                     970  "
      ]
     },
     "execution_count": 29,
     "metadata": {},
     "output_type": "execute_result"
    }
   ],
   "source": [
    "# prep the data, calculate sums\n",
    "# HINT: you may want to group the data by Date & use an aggregation function like .sum()\n",
    "downtime = combined_df.groupby('Date')[['Cable Failure Downtime', 'Other Failure Downtime', 'Total Failure Downtime']].sum()\n",
    "\n",
    "downtime.head()"
   ]
  },
  {
   "cell_type": "code",
   "execution_count": 30,
   "id": "cd0bb5d0-da3a-41ec-b566-814c4849ccad",
   "metadata": {},
   "outputs": [
    {
     "data": {
      "text/plain": [
       "<AxesSubplot:title={'center':'Downtimes by Date'}, xlabel='Date'>"
      ]
     },
     "execution_count": 30,
     "metadata": {},
     "output_type": "execute_result"
    },
    {
     "data": {
      "image/png": "[encoded data removed]",
      "text/plain": [
       "<Figure size 1728x576 with 1 Axes>"
      ]
     },
     "metadata": {},
     "output_type": "display_data"
    }
   ],
   "source": [
    "# line chart with 'Date' along the x-axis (in ascending chronological order), minutes along the y-axis, & three lines: Cable Failure Downtime, Other Failure Downtime, & Total Failure Downtime\n",
    "# HINT: you'll likely want to call plt.plot() once for each line you're plotting \n",
    "\n",
    "downtime.plot(kind='line',\n",
    "              title = 'Downtimes by Date')"
   ]
  },
  {
   "cell_type": "markdown",
   "id": "35c6cacc-1ec0-4d0b-aca5-acfc00af01f6",
   "metadata": {},
   "source": [
    "## Plot the mean downtime by 'Day of Week'"
   ]
  },
  {
   "cell_type": "code",
   "execution_count": 31,
   "id": "b4cefc47-252f-4912-8018-e5e6f2fb5351",
   "metadata": {},
   "outputs": [
    {
     "data": {
      "text/plain": [
       "Day of Week\n",
       "Friday        85.227273\n",
       "Monday        82.692308\n",
       "Saturday     115.535714\n",
       "Sunday        84.482759\n",
       "Thursday     124.705882\n",
       "Tuesday       87.884615\n",
       "Wednesday    163.500000\n",
       "Name: Total Failure Downtime, dtype: float64"
      ]
     },
     "execution_count": 31,
     "metadata": {},
     "output_type": "execute_result"
    }
   ],
   "source": [
    "# prep the data, calculate means\n",
    "order = ['Monday', 'Tuesday', 'Wednesday', 'Thursday', 'Friday', 'Saturday', 'Sunday']\n",
    "\n",
    "mean_downtime = combined_df.groupby('Day of Week')['Total Failure Downtime'].mean()\n",
    "\n",
    "mean_downtime"
   ]
  },
  {
   "cell_type": "code",
   "execution_count": 32,
   "id": "07ca19c0-dded-44c6-a739-2d88a84fc884",
   "metadata": {},
   "outputs": [
    {
     "data": {
      "text/plain": [
       "<AxesSubplot:title={'center':'Total Downtime by Day of Week'}>"
      ]
     },
     "execution_count": 32,
     "metadata": {},
     "output_type": "execute_result"
    },
    {
     "data": {
      "image/png": "[encoded data removed]",
      "text/plain": [
       "<Figure size 1728x576 with 1 Axes>"
      ]
     },
     "metadata": {},
     "output_type": "display_data"
    }
   ],
   "source": [
    "# plot mean downtime by day of the week\n",
    "mean_downtime = pd.DataFrame(mean_downtime, index = order)\n",
    "\n",
    "mean_downtime.plot(kind='bar',\n",
    "                   title = 'Total Downtime by Day of Week')"
   ]
  },
  {
   "cell_type": "markdown",
   "id": "f4151726-25bc-4c02-8b55-ffeae01ee289",
   "metadata": {},
   "source": [
    "According to the bar chart above, Wednesday tends to have the highest average number of downtime. It is significantly higher than other days of the week."
   ]
  },
  {
   "cell_type": "code",
   "execution_count": 33,
   "id": "55e5a806-0413-4dea-ba93-ed01f655ec21",
   "metadata": {},
   "outputs": [
    {
     "data": {
      "text/plain": [
       "<AxesSubplot:>"
      ]
     },
     "execution_count": 33,
     "metadata": {},
     "output_type": "execute_result"
    },
    {
     "data": {
      "image/png": "[encoded data removed]",
      "text/plain": [
       "<Figure size 1728x576 with 1 Axes>"
      ]
     },
     "metadata": {},
     "output_type": "display_data"
    }
   ],
   "source": [
    "# line chart with 'Day of Week' along the x-axis, minutes along the y-axis, & three lines: Cable Failure Downtime, Other Failure Downtime, & Total Failure Downtime\n",
    "total_by_dow = combined_df.groupby('Day of Week')['Cable Failure Downtime', 'Other Failure Downtime', 'Total Failure Downtime'].mean()\n",
    "total_by_dow = pd.DataFrame(total_by_dow, index = order)\n",
    "\n",
    "total_by_dow.plot(kind='line')"
   ]
  },
  {
   "cell_type": "markdown",
   "id": "01d33f83-396c-4759-9383-3b3237104136",
   "metadata": {},
   "source": [
    "The bar plot above shows Wednesday as the day that tends to have the higest average downtime within our time series. However, the line plot showing Saturday and Sunday are the days with the most number of total failure downtime. Why is that so?\n",
    "\n",
    "It's because the time series that we have are skewed:\n",
    "\n",
    "- The series captured a 2-and-a-half week period starting from Friday of the first week and ending on the Sunday of the third week. This means the number of failures and downtimes on Friday, Saturday, and Sunday were repeated more times than any other days of the week. That's why when we performed a aggregation based on sum of failures/downtimes, we saw a spike during the weekend.\n",
    "\n",
    "- In addition to that, the statistics for Wednesday 2020-11-11 were missing.This would potentially positively skewed both the sum and average aggregation, unless we assume that there was no failure/downtime on 2020-11-11."
   ]
  },
  {
   "cell_type": "markdown",
   "id": "65f5ce58-5f99-452a-b98e-8426ed55ba93",
   "metadata": {},
   "source": [
    "# End"
   ]
  }
 ],
 "metadata": {
  "kernelspec": {
   "display_name": "Python 3 (ipykernel)",
   "language": "python",
   "name": "python3"
  },
  "language_info": {
   "codemirror_mode": {
    "name": "ipython",
    "version": 3
   },
   "file_extension": ".py",
   "mimetype": "text/x-python",
   "name": "python",
   "nbconvert_exporter": "python",
   "pygments_lexer": "ipython3",
   "version": "3.10.1"
  }
 },
 "nbformat": 4,
 "nbformat_minor": 5
}
